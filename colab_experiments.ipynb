{
 "cells": [
  {
   "cell_type": "markdown",

   "metadata": {
    "id": "intro"
   },
   "source": [
    "# Teacher-Student-Basics en Colab\n",
    "Este notebook documenta cómo ejecutar experimentos **supervisados** y **semi-supervisados** con el repositorio Teacher-Student-Basics.\n"
   ]
  },
  {
   "cell_type": "markdown",
   "metadata": {
    "id": "setup_md"
   },
   "source": [
    "## 1. Preparación del entorno\n",
    "Clonamos el repositorio y instalamos las dependencias necesarias.\n"
   ]
  },
  {
   "cell_type": "code",
   "execution_count": null,
   "metadata": {
    "id": "setup"
   },
   "outputs": [],
   "source": [
    "#@title Clonar el repositorio e instalar dependencias\n",
    "REPO_URL = \"https://github.com/<your_user>/Teacher-Student-Basics.git\"  #@param {type:\"string\"}\n",
    "BRANCH = \"main\"  #@param {type:\"string\"}\n",
    "\n",
    "!git clone --depth 1 -b $BRANCH $REPO_URL\n",
    "%cd Teacher-Student-Basics\n",
    "!pip install -r requirements.txt\n"
   ]
  },
  {
   "cell_type": "markdown",
   "metadata": {
    "id": "model_md"
   },
   "source": [
    "## 2. Carga del modelo\n",
    "Podemos cargar el modelo SAM2 con ajustes opcionales como LoRA o QLoRA.\n"
   ]
  },
  {
   "cell_type": "code",
   "execution_count": null,
   "metadata": {
    "id": "load_model"
   },
   "outputs": [],
   "source": [
    "#@title Cargar SAM2 con LoRA o QLoRA\n",
    "from src.models.sam_lora import load_model\n",
    "USE_Q_LORA = False  #@param {type:\"boolean\"}\n",
    "\n",
    "model = load_model(\"facebook/sam2-huge\", qlora=USE_Q_LORA)\n"
   ]
  },
  {
   "cell_type": "markdown",
   "metadata": {
    "id": "sup_md"
   },
   "source": [
    "## 3. Entrenamiento supervisado\n",
    "Ejemplo de entrenamiento utilizando un conjunto de datos en formato COCO. Ajusta las rutas de entrenamiento y validación según tus datos.\n"
   ]
  },
  {
   "cell_type": "code",
   "execution_count": null,
   "metadata": {
    "id": "training_sup"
   },
   "outputs": [],
   "source": [
    "#@title Ejecutar entrenamiento supervisado\n",
    "TRAIN_DIR = \"data/raw/Cataract COCO Segmentation/train\"  #@param {type:\"string\"}\n",
    "VAL_DIR = \"data/raw/Cataract COCO Segmentation/valid\"  #@param {type:\"string\"}\n",
    "\n",
    "!python -m src.training.supervised --train \"$TRAIN_DIR\" --val \"$VAL_DIR\"\n"
   ]
  },
  {
   "cell_type": "markdown",
   "metadata": {
    "id": "semi_md"
   },
   "source": [
    "## 4. Entrenamiento semi-supervisado\n",
    "Entrena un modelo utilizando ejemplos etiquetados y no etiquetados. Los parámetros clave como el tamaño de lote y número de épocas pueden ajustarse.\n"
   ]
  },
  {
   "cell_type": "code",
   "execution_count": null,
   "metadata": {
    "id": "training_semi"
   },
   "outputs": [],
   "source": [
    "#@title Ejecutar entrenamiento semi-supervisado\n",
    "DATA_DIR = \"data/raw/Cataract COCO Segmentation/train\"  #@param {type:\"string\"}\n",
    "BATCH_SIZE = 8  #@param {type:\"integer\"}\n",
    "EPOCHS = 30  #@param {type:\"integer\"}\n",
    "\n",
    "!python -m src.training.semi_supervised_train --train \"$DATA_DIR\" --bs $BATCH_SIZE --epochs $EPOCHS\n"
   ]
  }
 ],
 "metadata": {
  "colab": {
   "name": "Teacher-Student-Basics-Experiments",
   "provenance": []
  },
  "kernelspec": {
   "display_name": "Python 3",
   "language": "python",
   "name": "python3"
  },
  "language_info": {
   "name": "python"
  }
 },
 "nbformat": 4,
 "nbformat_minor": 5
}
